{
 "cells": [
  {
   "cell_type": "code",
   "execution_count": 26,
   "metadata": {},
   "outputs": [],
   "source": [
    "import pandas as pd \n",
    "path_root = 'data/pickle_files'\n",
    "df: pd.DataFrame = pd.read_pickle(path_root+'/2012.pkl').infer_objects().head(1000)\n",
    "# df.to_csv('data/csv_files/2012.csv', index=False)\n",
    "\n",
    "# df: pd.DataFrame = pd.read_csv('data/csv_files/2012.csv').infer_objects()"
   ]
  },
  {
   "cell_type": "code",
   "execution_count": 27,
   "metadata": {},
   "outputs": [],
   "source": [
    "# clean\n",
    "# basically, remove the null values from osm_id and its corresponding coordinates\n",
    "combined_col = df.apply(lambda d: list(zip(d['osm_id'], d['coordinates'])), axis=1)\n",
    "combined_col.apply(lambda sc: list(filter(lambda elem: elem[0] is not None, sc))) \n",
    "segments, coordinates = list(zip(*combined_col))\n",
    "df['coordinates'] = coordinates\n",
    "df['osm_id'] = segments"
   ]
  },
  {
   "cell_type": "code",
   "execution_count": null,
   "metadata": {},
   "outputs": [],
   "source": [
    "segment_to_coordinates: dict[str, list[int, int, int]] = dict()\n"
   ]
  }
 ],
 "metadata": {
  "interpreter": {
   "hash": "2dd0c48ee349e6b2942d2635fdc981a0337a8bad54647dcc9d68fc5998c540e0"
  },
  "kernelspec": {
   "display_name": "Python 3.9.13 64-bit (windows store)",
   "language": "python",
   "name": "python3"
  },
  "language_info": {
   "codemirror_mode": {
    "name": "ipython",
    "version": 3
   },
   "file_extension": ".py",
   "mimetype": "text/x-python",
   "name": "python",
   "nbconvert_exporter": "python",
   "pygments_lexer": "ipython3",
   "version": "3.9.13"
  },
  "orig_nbformat": 4
 },
 "nbformat": 4,
 "nbformat_minor": 2
}
