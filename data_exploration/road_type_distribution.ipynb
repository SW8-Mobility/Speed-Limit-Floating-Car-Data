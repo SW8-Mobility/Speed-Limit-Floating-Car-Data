{
 "cells": [
  {
   "cell_type": "code",
   "execution_count": 2,
   "metadata": {
    "ExecuteTime": {
     "start_time": "2023-05-12T10:40:46.536977Z",
     "end_time": "2023-05-12T10:41:03.917196Z"
    }
   },
   "outputs": [],
   "source": [
    "import pandas as pd\n",
    "\n",
    "df = pd.read_pickle('/share-files/pickle_files_features_and_ground_truth/2012.pkl')"
   ]
  },
  {
   "cell_type": "code",
   "execution_count": 3,
   "metadata": {
    "ExecuteTime": {
     "start_time": "2023-05-12T10:41:07.712564Z",
     "end_time": "2023-05-12T10:42:24.864554Z"
    }
   },
   "outputs": [
    {
     "name": "stdout",
     "output_type": "stream",
     "text": [
      "35592\n",
      "17683\n"
     ]
    }
   ],
   "source": [
    "# remove duplicates \n",
    "print(len(df))\n",
    "cols = df.columns\n",
    "df = df[cols].loc[df[cols].astype(str).drop_duplicates().index]\n",
    "print(len(df))"
   ]
  },
  {
   "cell_type": "code",
   "execution_count": 6,
   "outputs": [
    {
     "data": {
      "text/plain": "array(['Øvrige veje', 'Motorvej', 'Motortrafikvej'], dtype=object)"
     },
     "execution_count": 6,
     "metadata": {},
     "output_type": "execute_result"
    }
   ],
   "source": [
    "from pipeline.preprocessing.compute_features.feature import Feature\n",
    "road_type_f = Feature.VEJTYPESKILTET.value\n",
    "df[road_type_f].unique()\n",
    "# df2 = df.groupby(['Courses'])['Courses'].count()"
   ],
   "metadata": {
    "collapsed": false,
    "ExecuteTime": {
     "start_time": "2023-05-12T10:44:34.084484Z",
     "end_time": "2023-05-12T10:44:34.099651Z"
    }
   }
  },
  {
   "cell_type": "code",
   "execution_count": 19,
   "outputs": [
    {
     "data": {
      "text/plain": "vejtypeskiltet\nMotortrafikvej    1013\nMotorvej          6804\nØvrige veje       9866\nName: vejtypeskiltet, dtype: int64"
     },
     "execution_count": 19,
     "metadata": {},
     "output_type": "execute_result"
    }
   ],
   "source": [
    "dist_df = df.groupby([road_type_f])[road_type_f].count()\n",
    "dist_df"
   ],
   "metadata": {
    "collapsed": false,
    "ExecuteTime": {
     "start_time": "2023-05-12T10:49:52.833465Z",
     "end_time": "2023-05-12T10:49:52.876212Z"
    }
   }
  },
  {
   "cell_type": "code",
   "execution_count": 20,
   "outputs": [
    {
     "data": {
      "text/plain": "vejtypeskiltet\nMotortrafikvej     5.728666\nMotorvej          38.477634\nØvrige veje       55.793700\nName: vejtypeskiltet, dtype: float64"
     },
     "execution_count": 20,
     "metadata": {},
     "output_type": "execute_result"
    }
   ],
   "source": [
    "# road type distribution percent\n",
    "total_roads = dist_df.sum()\n",
    "percent_dist = dist_df.apply(lambda num: (num / total_roads) * 100)\n",
    "percent_dist"
   ],
   "metadata": {
    "collapsed": false,
    "ExecuteTime": {
     "start_time": "2023-05-12T10:49:54.799250Z",
     "end_time": "2023-05-12T10:49:54.809492Z"
    }
   }
  },
  {
   "cell_type": "code",
   "execution_count": null,
   "outputs": [],
   "source": [],
   "metadata": {
    "collapsed": false
   }
  }
 ],
 "metadata": {
  "interpreter": {
   "hash": "2dd0c48ee349e6b2942d2635fdc981a0337a8bad54647dcc9d68fc5998c540e0"
  },
  "kernelspec": {
   "display_name": "Python 3.9.13 64-bit (windows store)",
   "language": "python",
   "name": "python3"
  },
  "language_info": {
   "codemirror_mode": {
    "name": "ipython",
    "version": 3
   },
   "file_extension": ".py",
   "mimetype": "text/x-python",
   "name": "python",
   "nbconvert_exporter": "python",
   "pygments_lexer": "ipython3",
   "version": "3.9.13"
  },
  "orig_nbformat": 4
 },
 "nbformat": 4,
 "nbformat_minor": 2
}
