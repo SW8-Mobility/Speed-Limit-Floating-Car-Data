{
 "cells": [
  {
   "cell_type": "code",
   "execution_count": 1,
   "metadata": {},
   "outputs": [],
   "source": [
    "import pandas as pd\n",
    "df = pd.read_pickle('2012.pkl')"
   ]
  },
  {
   "cell_type": "code",
   "execution_count": 2,
   "metadata": {},
   "outputs": [],
   "source": [
    "# remove duplicates \n",
    "print(len(df))\n",
    "cols = df.columns\n",
    "df = df[cols].loc[df[cols].astype(str).drop_duplicates().index]\n",
    "print(len(df))"
   ]
  }
 ],
 "metadata": {
  "interpreter": {
   "hash": "2dd0c48ee349e6b2942d2635fdc981a0337a8bad54647dcc9d68fc5998c540e0"
  },
  "kernelspec": {
   "display_name": "Python 3.9.13 64-bit (windows store)",
   "language": "python",
   "name": "python3"
  },
  "language_info": {
   "codemirror_mode": {
    "name": "ipython",
    "version": 3
   },
   "file_extension": ".py",
   "mimetype": "text/x-python",
   "name": "python",
   "nbconvert_exporter": "python",
   "pygments_lexer": "ipython3",
   "version": "3.9.13"
  },
  "orig_nbformat": 4
 },
 "nbformat": 4,
 "nbformat_minor": 2
}
